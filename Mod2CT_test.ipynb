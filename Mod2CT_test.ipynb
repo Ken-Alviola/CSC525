{
 "cells": [
  {
   "cell_type": "code",
   "execution_count": null,
   "id": "d496b174",
   "metadata": {},
   "outputs": [],
   "source": [
    "import sys\n",
    "from sklearn.preprocessing import StandardScaler\n",
    "from sklearn.neighbors import KNeighborsClassifier\n",
    "import numpy as np\n",
    "import pandas as pd\n",
    "\n",
    "# Load dataset\n",
    "data = pd.read_csv('data.csv', index_col=0)\n",
    "\n",
    "# Features and target\n",
    "X = data[['Age', 'Height', 'Weight', 'Gender']]\n",
    "y = data['Genre']\n",
    "\n",
    "# Standardize features\n",
    "scaler = StandardScaler()\n",
    "X_scaled = scaler.fit_transform(X)\n",
    "\n",
    "# Train the KNN model\n",
    "knn = KNeighborsClassifier(n_neighbors=5)\n",
    "knn.fit(X_scaled, y)"
   ]
  },
  {
   "cell_type": "code",
   "execution_count": null,
   "id": "0c1d1d91",
   "metadata": {},
   "outputs": [],
   "source": [
    "# Prompt the user to enter each value individually\n",
    "try:\n",
    "    age = float(input(\"Enter age (in years): \"))\n",
    "    height = float(input(\"Enter height (in inches): \"))\n",
    "    weight = float(input(\"Enter weight (in lbs): \"))\n",
    "    gender = float(input(\"Enter gender (0 for female, 1 for male): \"))\n",
    "except ValueError:\n",
    "    print(\"Invalid input. Please enter numeric values.\")\n",
    "    sys.exit()\n",
    "\n",
    "# Input as numpy array\n",
    "input_features = np.array([[age, height, weight, gender]])\n",
    "input_scaled = scaler.transform(input_features)\n",
    "\n",
    "\n",
    "# Make prediction\n",
    "prediction = knn.predict(input_scaled)\n",
    "print(f\"The predicted favorite video game genre is: {prediction[0]}\")"
   ]
  },
  {
   "cell_type": "code",
   "execution_count": null,
   "id": "c5f18b6a",
   "metadata": {},
   "outputs": [],
   "source": []
  },
  {
   "cell_type": "code",
   "execution_count": null,
   "id": "fb390c07",
   "metadata": {},
   "outputs": [],
   "source": []
  },
  {
   "cell_type": "code",
   "execution_count": null,
   "id": "03c3636a",
   "metadata": {},
   "outputs": [],
   "source": []
  },
  {
   "cell_type": "code",
   "execution_count": null,
   "id": "1ec2097f",
   "metadata": {},
   "outputs": [],
   "source": []
  },
  {
   "cell_type": "code",
   "execution_count": null,
   "id": "e1967984",
   "metadata": {},
   "outputs": [],
   "source": []
  },
  {
   "cell_type": "code",
   "execution_count": null,
   "id": "bb0410e6",
   "metadata": {},
   "outputs": [],
   "source": []
  },
  {
   "cell_type": "code",
   "execution_count": null,
   "id": "bd57fbd9",
   "metadata": {},
   "outputs": [],
   "source": []
  },
  {
   "cell_type": "code",
   "execution_count": null,
   "id": "6bd5e053",
   "metadata": {},
   "outputs": [],
   "source": []
  }
 ],
 "metadata": {
  "kernelspec": {
   "display_name": "Python 3 (ipykernel)",
   "language": "python",
   "name": "python3"
  },
  "language_info": {
   "codemirror_mode": {
    "name": "ipython",
    "version": 3
   },
   "file_extension": ".py",
   "mimetype": "text/x-python",
   "name": "python",
   "nbconvert_exporter": "python",
   "pygments_lexer": "ipython3",
   "version": "3.10.12"
  }
 },
 "nbformat": 4,
 "nbformat_minor": 5
}
