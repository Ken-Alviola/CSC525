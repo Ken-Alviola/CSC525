{
 "cells": [
  {
   "cell_type": "code",
   "execution_count": 1,
   "id": "475e84d2",
   "metadata": {},
   "outputs": [],
   "source": [
    "import os\n",
    "import random\n",
    "from PIL import Image, ImageEnhance\n",
    "from torchvision import transforms"
   ]
  },
  {
   "cell_type": "code",
   "execution_count": 4,
   "id": "58457413",
   "metadata": {},
   "outputs": [],
   "source": [
    "# Define augmentation functions\n",
    "def augment_image(image):\n",
    "    \"\"\"Apply a random augmentation to the given image.\"\"\"\n",
    "    augmentations = [\n",
    "        lambda img: ImageEnhance.Brightness(img).enhance(random.uniform(0.5, 1.5)),  # Adjust brightness\n",
    "        lambda img: ImageEnhance.Contrast(img).enhance(random.uniform(0.5, 1.5)),    # Adjust contrast\n",
    "        lambda img: img.transpose(Image.FLIP_LEFT_RIGHT),                           # Horizontal flip\n",
    "        lambda img: img.rotate(random.choice([15, -15, 30, -30])),                  # Rotate\n",
    "        lambda img: transforms.RandomResizedCrop(size=img.size, scale=(0.8, 1.0))(transforms.ToTensor()(img)),  # Crop and resize\n",
    "    ]\n",
    "\n",
    "    augmentation = random.choice(augmentations)\n",
    "    return augmentation(image)\n",
    "\n",
    "# Define function to process the dataset\n",
    "def augment_dataset(input_dir, output_dir, augmentations_per_image=1):\n",
    "    \"\"\"Augment all images in the input directory and save them to the output directory.\"\"\"\n",
    "    if not os.path.exists(output_dir):\n",
    "        os.makedirs(output_dir)\n",
    "\n",
    "    for filename in os.listdir(input_dir):\n",
    "        if filename.lower().endswith(('.png', '.jpg', '.jpeg', '.bmp', '.tiff')):\n",
    "            image_path = os.path.join(input_dir, filename)\n",
    "            image = Image.open(image_path).convert(\"RGB\")\n",
    "\n",
    "            for i in range(augmentations_per_image):\n",
    "                augmented_image = augment_image(image)\n",
    "                augmented_filename = f\"{os.path.splitext(filename)[0]}_aug_{i}{os.path.splitext(filename)[1]}\"\n",
    "                augmented_image_path = os.path.join(output_dir, augmented_filename)\n",
    "\n",
    "                if isinstance(augmented_image, Image.Image):\n",
    "                    augmented_image.save(augmented_image_path)\n",
    "                else:\n",
    "                    transforms.ToPILImage()(augmented_image).save(augmented_image_path)"
   ]
  },
  {
   "cell_type": "code",
   "execution_count": 5,
   "id": "d612afe7",
   "metadata": {},
   "outputs": [
    {
     "name": "stdout",
     "output_type": "stream",
     "text": [
      "Augmentation complete. Check the 'augmented_galaxy' folder for results.\n"
     ]
    }
   ],
   "source": [
    "# Run the script\n",
    "if __name__ == \"__main__\":\n",
    "    input_folder = \"galaxy\"  # Folder containing the original images\n",
    "    output_folder = \"augmented_galaxy\"  # Folder to save augmented images\n",
    "\n",
    "    augment_dataset(input_folder, output_folder)\n",
    "    print(f\"Augmentation complete. Check the '{output_folder}' folder for results.\")"
   ]
  },
  {
   "cell_type": "code",
   "execution_count": null,
   "id": "1f4adb74",
   "metadata": {},
   "outputs": [],
   "source": []
  }
 ],
 "metadata": {
  "kernelspec": {
   "display_name": "Python 3 (ipykernel)",
   "language": "python",
   "name": "python3"
  },
  "language_info": {
   "codemirror_mode": {
    "name": "ipython",
    "version": 3
   },
   "file_extension": ".py",
   "mimetype": "text/x-python",
   "name": "python",
   "nbconvert_exporter": "python",
   "pygments_lexer": "ipython3",
   "version": "3.10.12"
  }
 },
 "nbformat": 4,
 "nbformat_minor": 5
}
